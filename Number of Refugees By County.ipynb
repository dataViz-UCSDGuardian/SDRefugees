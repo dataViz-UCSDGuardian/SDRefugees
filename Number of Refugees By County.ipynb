{
 "cells": [
  {
   "cell_type": "code",
   "execution_count": 92,
   "metadata": {
    "collapsed": false
   },
   "outputs": [],
   "source": [
    "import pandas as pd\n",
    "import numpy as np\n",
    "import plotly\n",
    "import plotly.plotly as py\n",
    "import plotly.graph_objs as go\n",
    "plotly.tools.set_credentials_file(username='ayatamin', api_key='d9z1mogc01')"
   ]
  },
  {
   "cell_type": "code",
   "execution_count": 93,
   "metadata": {
    "collapsed": true
   },
   "outputs": [],
   "source": [
    "f_2011 = pd.read_excel('Arrivals2011.xlsx')\n",
    "f_2012 = pd.read_excel('Arrivals2012.xlsx')\n",
    "f_2013 = pd.read_excel('Arrivals2013.xlsx')\n",
    "f_2014 = pd.read_excel('Arrivals2014ToDate.xlsx')\n",
    "f_2015 = pd.read_excel('Arrivals2007to2016current.xlsx')\n",
    "f_2016 = pd.read_excel('Arrivals2016_by_county.xlsx')"
   ]
  },
  {
   "cell_type": "code",
   "execution_count": 94,
   "metadata": {
    "collapsed": false
   },
   "outputs": [
    {
     "data": {
      "text/plain": [
       "(20, 13)"
      ]
     },
     "execution_count": 94,
     "metadata": {},
     "output_type": "execute_result"
    }
   ],
   "source": [
    "f_2016.shape"
   ]
  },
  {
   "cell_type": "code",
   "execution_count": 144,
   "metadata": {
    "collapsed": false
   },
   "outputs": [],
   "source": [
    "t11 = []\n",
    "t12 = []\n",
    "t13 = []\n",
    "t14 = []\n",
    "t15 = []\n",
    "t16 = []\n",
    "\n",
    "c11 = []\n",
    "c12 = []\n",
    "c13 = []\n",
    "c14 = []\n",
    "c15 = []\n",
    "c16 = []\n",
    "    \n",
    "d11 = {}\n",
    "d12 = {}\n",
    "d13 = {}\n",
    "d14 = {}\n",
    "d15 = {}\n",
    "d16 = {}\n",
    "th = 20 #thresh hold\n",
    "for i in range(1,58):\n",
    "    v1 = f_2011.iloc[i,:][13]\n",
    "    if(v1 != '-' and int(v1) > th): \n",
    "        t11.append(v1)\n",
    "        c11.append(f_2011.iloc[i,:][0])\n",
    "        d11[f_2011.iloc[i,:][0]] = v1\n",
    "    v2 = f_2012.iloc[i,:][13]\n",
    "    if(v2 != '-' and int(v2) > th):\n",
    "        t12.append(v2)\n",
    "        c12.append(f_2012.iloc[i,:][0])\n",
    "        d12[f_2012.iloc[i,:][0]] = v2\n",
    "for i in range(1, 25):\n",
    "    v3 = f_2013.iloc[i,:][13]\n",
    "    if(v3 != '-' and int(v3) > th): \n",
    "        t13.append(v3)\n",
    "        c13.append(f_2013.iloc[i,:][0])\n",
    "        d13[f_2013.iloc[i,:][0]] = v3\n",
    "    v4 = f_2014.iloc[i,:][13]\n",
    "    if(v4 != '-' and int(v4) > th): \n",
    "        t14.append(v4)\n",
    "        c14.append(f_2014.iloc[i,:][0])\n",
    "        d14[f_2014.iloc[i,:][0]] = v4\n",
    "for i in range(1, 22):\n",
    "    v5 = f_2015.iloc[i,:][13]\n",
    "    if(v5 != '-' and int(v5) > th): \n",
    "        t15.append(v5)\n",
    "        c15.append(f_2015.iloc[i,:][0])\n",
    "        d15[f_2015.iloc[i,:][0]] = v5\n",
    "#2016 doesn't have totals\n",
    "for i in range(1, 19):\n",
    "    v6 = f_2016.iloc[i,:][12]\n",
    "    if(v6 != '-' and int(v6) > th): \n",
    "        t16.append(v6)\n",
    "        c16.append(f_2016.iloc[i,:][0])\n",
    "        d16[f_2016.iloc[i,:][0]] = v6\n",
    "\n",
    "#Removing Data that only shows once\n",
    "c13.remove('San Mateo')\n",
    "t13.remove(30)\n",
    "c11.remove('Butte')\n",
    "t11.remove(22)"
   ]
  },
  {
   "cell_type": "code",
   "execution_count": null,
   "metadata": {
    "collapsed": false
   },
   "outputs": [],
   "source": []
  },
  {
   "cell_type": "code",
   "execution_count": null,
   "metadata": {
    "collapsed": false
   },
   "outputs": [],
   "source": []
  },
  {
   "cell_type": "code",
   "execution_count": 145,
   "metadata": {
    "collapsed": false
   },
   "outputs": [
    {
     "data": {
      "text/html": [
       "<iframe id=\"igraph\" scrolling=\"no\" style=\"border:none;\" seamless=\"seamless\" src=\"https://plot.ly/~ayatamin/21.embed\" height=\"525px\" width=\"100%\"></iframe>"
      ],
      "text/plain": [
       "<plotly.tools.PlotlyDisplay object>"
      ]
     },
     "execution_count": 145,
     "metadata": {},
     "output_type": "execute_result"
    }
   ],
   "source": [
    "z11 = go.Bar( x=c11, y=t11, name='2011')\n",
    "z12 = go.Bar( x=c12, y=t12, name='2012')\n",
    "z13 = go.Bar( x=c13, y=t13, name='2013')\n",
    "z14 = go.Bar( x=c14, y=t14, name='2014')\n",
    "z15 = go.Bar( x=c15, y=t15, name='2015')\n",
    "z16 = go.Bar( x=c16, y=t16, name='2016')\n",
    "\n",
    "data = [z11, z12, z13, z14, z15, z16]\n",
    "layout = go.Layout(\n",
    "    barmode='stack'\n",
    ")\n",
    "\n",
    "fig = go.Figure(data=data, layout=layout)\n",
    "py.iplot(fig, filename='stack')"
   ]
  },
  {
   "cell_type": "code",
   "execution_count": null,
   "metadata": {
    "collapsed": true
   },
   "outputs": [],
   "source": [
    "    "
   ]
  }
 ],
 "metadata": {
  "kernelspec": {
   "display_name": "Python 3",
   "language": "python",
   "name": "python3"
  },
  "language_info": {
   "codemirror_mode": {
    "name": "ipython",
    "version": 3
   },
   "file_extension": ".py",
   "mimetype": "text/x-python",
   "name": "python",
   "nbconvert_exporter": "python",
   "pygments_lexer": "ipython3",
   "version": "3.5.1"
  }
 },
 "nbformat": 4,
 "nbformat_minor": 0
}
