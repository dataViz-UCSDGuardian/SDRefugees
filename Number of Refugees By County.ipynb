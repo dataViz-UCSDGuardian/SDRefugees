{
 "cells": [
  {
   "cell_type": "code",
   "execution_count": 1,
   "metadata": {
    "collapsed": true
   },
   "outputs": [],
   "source": [
    "#For UCSD Guardian Article\n",
    "#Link to Data: http://www.cdss.ca.gov/refugeeprogram/PG1537.htm\n",
    "#Link to Article: http://ucsdguardian.org/2016/10/18/san-diego-tops-state-in-refugee-resettlement/\n",
    "#Author: Ayat Amin\n",
    "#Date: 10/12/2016"
   ]
  },
  {
   "cell_type": "code",
   "execution_count": 2,
   "metadata": {
    "collapsed": false
   },
   "outputs": [
    {
     "name": "stderr",
     "output_type": "stream",
     "text": [
      "C:\\Users\\Ayat Amin\\Anaconda3\\lib\\site-packages\\pandas\\computation\\__init__.py:19: UserWarning: The installed version of numexpr 2.4.4 is not supported in pandas and will be not be used\n",
      "\n",
      "  UserWarning)\n"
     ]
    }
   ],
   "source": [
    "import pandas as pd\n",
    "import numpy as np\n",
    "import plotly\n",
    "import plotly.plotly as py\n",
    "import plotly.graph_objs as go\n",
    "plotly.tools.set_credentials_file(username='ayatamin', api_key='d9z1mogc01')"
   ]
  },
  {
   "cell_type": "code",
   "execution_count": 3,
   "metadata": {
    "collapsed": true
   },
   "outputs": [],
   "source": [
    "f_2011 = pd.read_excel('Arrivals2011.xlsx')\n",
    "f_2012 = pd.read_excel('Arrivals2012.xlsx')\n",
    "f_2013 = pd.read_excel('Arrivals2013.xlsx')\n",
    "f_2014 = pd.read_excel('Arrivals2014ToDate.xlsx')\n",
    "f_2015 = pd.read_excel('Arrivals2007to2016current.xlsx')\n",
    "f_2016 = pd.read_excel('Arrivals2016_by_county.xlsx')"
   ]
  },
  {
   "cell_type": "code",
   "execution_count": 4,
   "metadata": {
    "collapsed": false
   },
   "outputs": [
    {
     "data": {
      "text/plain": [
       "(20, 13)"
      ]
     },
     "execution_count": 4,
     "metadata": {},
     "output_type": "execute_result"
    }
   ],
   "source": [
    "f_2016.shape"
   ]
  },
  {
   "cell_type": "code",
   "execution_count": 5,
   "metadata": {
    "collapsed": false
   },
   "outputs": [],
   "source": [
    "t11 = []\n",
    "t12 = []\n",
    "t13 = []\n",
    "t14 = []\n",
    "t15 = []\n",
    "t16 = []\n",
    "\n",
    "c11 = []\n",
    "c12 = []\n",
    "c13 = []\n",
    "c14 = []\n",
    "c15 = []\n",
    "c16 = []\n",
    "    \n",
    "d11 = {}\n",
    "d12 = {}\n",
    "d13 = {}\n",
    "d14 = {}\n",
    "d15 = {}\n",
    "d16 = {}\n",
    "th = 20 #thresh hold\n",
    "for i in range(1,58):\n",
    "    v1 = f_2011.iloc[i,:][13]\n",
    "    if(v1 != '-' and int(v1) > th): \n",
    "        t11.append(v1)\n",
    "        c11.append(f_2011.iloc[i,:][0])\n",
    "        d11[f_2011.iloc[i,:][0]] = v1\n",
    "    v2 = f_2012.iloc[i,:][13]\n",
    "    if(v2 != '-' and int(v2) > th):\n",
    "        t12.append(v2)\n",
    "        c12.append(f_2012.iloc[i,:][0])\n",
    "        d12[f_2012.iloc[i,:][0]] = v2\n",
    "for i in range(1, 25):\n",
    "    v3 = f_2013.iloc[i,:][13]\n",
    "    if(v3 != '-' and int(v3) > th): \n",
    "        t13.append(v3)\n",
    "        c13.append(f_2013.iloc[i,:][0])\n",
    "        d13[f_2013.iloc[i,:][0]] = v3\n",
    "    v4 = f_2014.iloc[i,:][13]\n",
    "    if(v4 != '-' and int(v4) > th): \n",
    "        t14.append(v4)\n",
    "        c14.append(f_2014.iloc[i,:][0])\n",
    "        d14[f_2014.iloc[i,:][0]] = v4\n",
    "for i in range(1, 22):\n",
    "    v5 = f_2015.iloc[i,:][13]\n",
    "    if(v5 != '-' and int(v5) > th): \n",
    "        t15.append(v5)\n",
    "        c15.append(f_2015.iloc[i,:][0])\n",
    "        d15[f_2015.iloc[i,:][0]] = v5\n",
    "#2016 doesn't have totals\n",
    "for i in range(1, 19):\n",
    "    v6 = f_2016.iloc[i,:][12]\n",
    "    if(v6 != '-' and int(v6) > th): \n",
    "        t16.append(v6)\n",
    "        c16.append(f_2016.iloc[i,:][0])\n",
    "        d16[f_2016.iloc[i,:][0]] = v6\n",
    "\n",
    "#Removing Data that only shows once\n",
    "c13.remove('San Mateo')\n",
    "t13.remove(30)\n",
    "c11.remove('Butte')\n",
    "t11.remove(22)"
   ]
  },
  {
   "cell_type": "code",
   "execution_count": 6,
   "metadata": {
    "collapsed": false
   },
   "outputs": [],
   "source": [
    "cc11 = ['Sacramento', 'Stanislaus', 'San Francisco', 'Contra Costa',\n",
    "        'Santa Clara','Fresno','San Bernardino', 'Riverside','Orange',\n",
    "        'Los Angeles','San Diego']\n",
    "cc11.reverse()"
   ]
  },
  {
   "cell_type": "code",
   "execution_count": 7,
   "metadata": {
    "collapsed": true
   },
   "outputs": [],
   "source": [
    "tt11 = [518, 190, 101, 0, 289, 28, 30, 0, 197, 1118, 2110]\n",
    "tt12 = [650, 202, 24, 36, 304, 25, 28, 64, 219, 762, 2622]\n",
    "tt13 = [741, 209, 29, 69, 315, 0, 45, 54, 387, 1387, 2745]\n",
    "tt14 = [665, 154, 0, 45, 194, 0, 42, 35, 247, 1737, 2661]\n",
    "tt16 = [1096, 290, 0, 45, 189, 0, 50, 36, 148, 2010, 2338]\n",
    "tt11.reverse()\n",
    "tt12.reverse()\n",
    "tt13.reverse()\n",
    "tt14.reverse()\n",
    "tt16.reverse()"
   ]
  },
  {
   "cell_type": "code",
   "execution_count": 8,
   "metadata": {
    "collapsed": false
   },
   "outputs": [],
   "source": [
    "import colorlover as cl\n",
    "color = cl.scales['9']['seq']['YlGnBu']"
   ]
  },
  {
   "cell_type": "code",
   "execution_count": 9,
   "metadata": {
    "collapsed": false
   },
   "outputs": [
    {
     "data": {
      "text/html": [
       "<iframe id=\"igraph\" scrolling=\"no\" style=\"border:none;\" seamless=\"seamless\" src=\"https://plot.ly/~ayatamin/21.embed\" height=\"525px\" width=\"100%\"></iframe>"
      ],
      "text/plain": [
       "<plotly.tools.PlotlyDisplay object>"
      ]
     },
     "execution_count": 9,
     "metadata": {},
     "output_type": "execute_result"
    }
   ],
   "source": [
    "z11 = go.Bar( y=cc11, x=tt11, name='2011', orientation = 'h',\n",
    "             marker = dict(color = color[8]))\n",
    "z12 = go.Bar( y=cc11, x=tt12, name='2012', orientation = 'h',\n",
    "            marker = dict(color = color[7]))\n",
    "z13 = go.Bar( y=cc11, x=tt13, name='2013', orientation = 'h',\n",
    "            marker = dict(color = color[6]))\n",
    "z14 = go.Bar( y=cc11, x=tt14, name='2014', orientation = 'h',\n",
    "            marker = dict(color = color[5]))\n",
    "z15 = go.Bar( y=c15, x=t15, name='2015', orientation = 'h',\n",
    "            marker = dict(color = color[4]))\n",
    "z16 = go.Bar( y=cc11, x=tt16, name='2016', orientation = 'h',\n",
    "            marker = dict(color = color[3]))\n",
    "\n",
    "data = [z11, z12, z13, z14, z15, z16]\n",
    "layout = go.Layout(\n",
    "    barmode='stack'\n",
    ")\n",
    "\n",
    "fig = go.Figure(data=data, layout=layout)\n",
    "py.iplot(fig, filename='stack')"
   ]
  },
  {
   "cell_type": "code",
   "execution_count": null,
   "metadata": {
    "collapsed": false
   },
   "outputs": [],
   "source": []
  }
 ],
 "metadata": {
  "kernelspec": {
   "display_name": "Python 3",
   "language": "python",
   "name": "python3"
  },
  "language_info": {
   "codemirror_mode": {
    "name": "ipython",
    "version": 3
   },
   "file_extension": ".py",
   "mimetype": "text/x-python",
   "name": "python",
   "nbconvert_exporter": "python",
   "pygments_lexer": "ipython3",
   "version": "3.5.1"
  }
 },
 "nbformat": 4,
 "nbformat_minor": 0
}
