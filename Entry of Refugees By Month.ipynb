{
 "cells": [
  {
   "cell_type": "code",
   "execution_count": null,
   "metadata": {
    "collapsed": true
   },
   "outputs": [],
   "source": [
    "#For UCSD Guardian Article\n",
    "#Link to Data: http://www.cdss.ca.gov/refugeeprogram/PG1537.htm\n",
    "#Link to Article: http://ucsdguardian.org/2016/10/18/san-diego-tops-state-in-refugee-resettlement/\n",
    "#Author: Ayat Amin\n",
    "#Date: 10/12/2016"
   ]
  },
  {
   "cell_type": "code",
   "execution_count": 2,
   "metadata": {
    "collapsed": false
   },
   "outputs": [
    {
     "name": "stderr",
     "output_type": "stream",
     "text": [
      "C:\\Users\\Ayat Amin\\Anaconda3\\lib\\site-packages\\pandas\\computation\\__init__.py:19: UserWarning: The installed version of numexpr 2.4.4 is not supported in pandas and will be not be used\n",
      "\n",
      "  UserWarning)\n"
     ]
    }
   ],
   "source": [
    "import pandas as pd\n",
    "import numpy as np"
   ]
  },
  {
   "cell_type": "code",
   "execution_count": 3,
   "metadata": {
    "collapsed": false
   },
   "outputs": [],
   "source": [
    "f_2011 = pd.read_excel('Arrivals2011.xlsx')\n",
    "f_2012 = pd.read_excel('Arrivals2012.xlsx')\n",
    "f_2013 = pd.read_excel('Arrivals2013.xlsx')\n",
    "f_2014 = pd.read_excel('Arrivals2014ToDate.xlsx')\n",
    "f_2015 = pd.read_excel('Arrivals2007to2016current.xlsx')\n",
    "f_2016 = pd.read_excel('Arrivals2016_by_county.xlsx')"
   ]
  },
  {
   "cell_type": "code",
   "execution_count": 4,
   "metadata": {
    "collapsed": false
   },
   "outputs": [
    {
     "data": {
      "text/plain": [
       "COUNTY    TOTAL\n",
       "Oct-14      583\n",
       "Nov-14      409\n",
       "Dec-14      438\n",
       "Jan-15      527\n",
       "Feb-15      246\n",
       "Mar-15      369\n",
       "Apr-15      401\n",
       "May-15      393\n",
       "Jun-15      349\n",
       "Jul-15      354\n",
       "Aug-15      531\n",
       "Sep-15    1,109\n",
       "TOTAL     5,709\n",
       "Name: 22, dtype: object"
      ]
     },
     "execution_count": 4,
     "metadata": {},
     "output_type": "execute_result"
    }
   ],
   "source": [
    "f_2015.iloc[22, :]"
   ]
  },
  {
   "cell_type": "code",
   "execution_count": 5,
   "metadata": {
    "collapsed": false
   },
   "outputs": [
    {
     "data": {
      "text/plain": [
       "[[0, 0, 0, 0, 0, 0, 0, 0, 0, 571, 555, 412],\n",
       " [548, 412, 166, 144, 374, 387, 404, 526, 475, 267, 256, 198],\n",
       " [350, 383, 322, 314, 470, 478, 538, 672, 935, 588, 682, 510],\n",
       " [341, 481, 556, 486, 425, 584, 503, 542, 684, 240, 596, 465],\n",
       " [663, 588, 374, 315, 448, 855, 605, 526, 444, 583, 409, 438],\n",
       " [527, 246, 369, 401, 393, 349, 354, 531, '1,109', 477, 441, 407],\n",
       " [478, 333, 518, 558, 441, 620, 764, '1,425', 0, 0, 0, 0]]"
      ]
     },
     "execution_count": 5,
     "metadata": {},
     "output_type": "execute_result"
    }
   ],
   "source": [
    "t10 = []\n",
    "t11 = []\n",
    "t12 = []\n",
    "t13 = []\n",
    "t14 = []\n",
    "t15 = []\n",
    "t16 = []\n",
    "    \n",
    "for i in range(4,13):\n",
    "    t10.append(0)\n",
    "    t11.append(f_2011.iloc[58,:][i])\n",
    "    t12.append(f_2012.iloc[58,:][i])\n",
    "    t13.append(f_2013.iloc[25,:][i])\n",
    "\n",
    "for i in range(4,13):\n",
    "    t14.append(f_2014.iloc[25,:][i])\n",
    "    t15.append(f_2015.iloc[22,:][i])\n",
    "    \n",
    "for i in range(4, 12):\n",
    "    t16.append(f_2016.iloc[19,:][i])\n",
    "\n",
    "for i in range (1,4):\n",
    "    t10.append(f_2011.iloc[58,:][i])\n",
    "    t11.append(f_2012.iloc[58,:][i])\n",
    "    t12.append(f_2013.iloc[25,:][i])\n",
    "    t13.append(f_2014.iloc[25,:][i])\n",
    "    t14.append(f_2015.iloc[22,:][i])\n",
    "    t15.append(f_2016.iloc[19,:][i])\n",
    "    t16.append(0)\n",
    "t16.append(0)\n",
    "    \n",
    "d = [t10, t11, t12, t13, t14, t15, t16]\n",
    "d"
   ]
  },
  {
   "cell_type": "code",
   "execution_count": 6,
   "metadata": {
    "collapsed": false
   },
   "outputs": [
    {
     "data": {
      "text/html": [
       "<div>\n",
       "<table border=\"1\" class=\"dataframe\">\n",
       "  <thead>\n",
       "    <tr style=\"text-align: right;\">\n",
       "      <th></th>\n",
       "      <th>Jan</th>\n",
       "      <th>Feb</th>\n",
       "      <th>Mar</th>\n",
       "      <th>Apr</th>\n",
       "      <th>May</th>\n",
       "      <th>Jun</th>\n",
       "      <th>Jul</th>\n",
       "      <th>Aug</th>\n",
       "      <th>Sep</th>\n",
       "      <th>Oct</th>\n",
       "      <th>Nov</th>\n",
       "      <th>Dec</th>\n",
       "    </tr>\n",
       "  </thead>\n",
       "  <tbody>\n",
       "    <tr>\n",
       "      <th>2010</th>\n",
       "      <td>0</td>\n",
       "      <td>0</td>\n",
       "      <td>0</td>\n",
       "      <td>0</td>\n",
       "      <td>0</td>\n",
       "      <td>0</td>\n",
       "      <td>0</td>\n",
       "      <td>0</td>\n",
       "      <td>0</td>\n",
       "      <td>571</td>\n",
       "      <td>555</td>\n",
       "      <td>412</td>\n",
       "    </tr>\n",
       "    <tr>\n",
       "      <th>2011</th>\n",
       "      <td>548</td>\n",
       "      <td>412</td>\n",
       "      <td>166</td>\n",
       "      <td>144</td>\n",
       "      <td>374</td>\n",
       "      <td>387</td>\n",
       "      <td>404</td>\n",
       "      <td>526</td>\n",
       "      <td>475</td>\n",
       "      <td>267</td>\n",
       "      <td>256</td>\n",
       "      <td>198</td>\n",
       "    </tr>\n",
       "    <tr>\n",
       "      <th>2012</th>\n",
       "      <td>350</td>\n",
       "      <td>383</td>\n",
       "      <td>322</td>\n",
       "      <td>314</td>\n",
       "      <td>470</td>\n",
       "      <td>478</td>\n",
       "      <td>538</td>\n",
       "      <td>672</td>\n",
       "      <td>935</td>\n",
       "      <td>588</td>\n",
       "      <td>682</td>\n",
       "      <td>510</td>\n",
       "    </tr>\n",
       "    <tr>\n",
       "      <th>2013</th>\n",
       "      <td>341</td>\n",
       "      <td>481</td>\n",
       "      <td>556</td>\n",
       "      <td>486</td>\n",
       "      <td>425</td>\n",
       "      <td>584</td>\n",
       "      <td>503</td>\n",
       "      <td>542</td>\n",
       "      <td>684</td>\n",
       "      <td>240</td>\n",
       "      <td>596</td>\n",
       "      <td>465</td>\n",
       "    </tr>\n",
       "    <tr>\n",
       "      <th>2014</th>\n",
       "      <td>663</td>\n",
       "      <td>588</td>\n",
       "      <td>374</td>\n",
       "      <td>315</td>\n",
       "      <td>448</td>\n",
       "      <td>855</td>\n",
       "      <td>605</td>\n",
       "      <td>526</td>\n",
       "      <td>444</td>\n",
       "      <td>583</td>\n",
       "      <td>409</td>\n",
       "      <td>438</td>\n",
       "    </tr>\n",
       "    <tr>\n",
       "      <th>2015</th>\n",
       "      <td>527</td>\n",
       "      <td>246</td>\n",
       "      <td>369</td>\n",
       "      <td>401</td>\n",
       "      <td>393</td>\n",
       "      <td>349</td>\n",
       "      <td>354</td>\n",
       "      <td>531</td>\n",
       "      <td>1,109</td>\n",
       "      <td>477</td>\n",
       "      <td>441</td>\n",
       "      <td>407</td>\n",
       "    </tr>\n",
       "    <tr>\n",
       "      <th>2016</th>\n",
       "      <td>478</td>\n",
       "      <td>333</td>\n",
       "      <td>518</td>\n",
       "      <td>558</td>\n",
       "      <td>441</td>\n",
       "      <td>620</td>\n",
       "      <td>764</td>\n",
       "      <td>1,425</td>\n",
       "      <td>0</td>\n",
       "      <td>0</td>\n",
       "      <td>0</td>\n",
       "      <td>0</td>\n",
       "    </tr>\n",
       "  </tbody>\n",
       "</table>\n",
       "</div>"
      ],
      "text/plain": [
       "      Jan  Feb  Mar  Apr  May  Jun  Jul    Aug    Sep  Oct  Nov  Dec\n",
       "2010    0    0    0    0    0    0    0      0      0  571  555  412\n",
       "2011  548  412  166  144  374  387  404    526    475  267  256  198\n",
       "2012  350  383  322  314  470  478  538    672    935  588  682  510\n",
       "2013  341  481  556  486  425  584  503    542    684  240  596  465\n",
       "2014  663  588  374  315  448  855  605    526    444  583  409  438\n",
       "2015  527  246  369  401  393  349  354    531  1,109  477  441  407\n",
       "2016  478  333  518  558  441  620  764  1,425      0    0    0    0"
      ]
     },
     "execution_count": 6,
     "metadata": {},
     "output_type": "execute_result"
    }
   ],
   "source": [
    "years = ['2010', '2011', '2012', '2013', '2014', '2015', '2016']\n",
    "months = [ 'Jan','Feb', 'Mar', 'Apr', 'May','Jun', 'Jul',\n",
    "          'Aug', 'Sep', 'Oct', 'Nov', 'Dec',]\n",
    "\n",
    "totals = pd.DataFrame(d, columns = months, index = years)\n",
    "totals"
   ]
  },
  {
   "cell_type": "code",
   "execution_count": 7,
   "metadata": {
    "collapsed": true
   },
   "outputs": [],
   "source": [
    "import plotly\n",
    "import plotly.plotly as py\n",
    "import plotly.graph_objs as go\n",
    "plotly.tools.set_credentials_file(username='ayatamin', api_key='d9z1mogc01')"
   ]
  },
  {
   "cell_type": "code",
   "execution_count": null,
   "metadata": {
    "collapsed": false
   },
   "outputs": [],
   "source": []
  },
  {
   "cell_type": "code",
   "execution_count": 8,
   "metadata": {
    "collapsed": false
   },
   "outputs": [
    {
     "data": {
      "text/html": [
       "<iframe id=\"igraph\" scrolling=\"no\" style=\"border:none;\" seamless=\"seamless\" src=\"https://plot.ly/~ayatamin/2.embed\" height=\"525px\" width=\"100%\"></iframe>"
      ],
      "text/plain": [
       "<plotly.tools.PlotlyDisplay object>"
      ]
     },
     "execution_count": 8,
     "metadata": {},
     "output_type": "execute_result"
    }
   ],
   "source": [
    "data = [go.Heatmap(z = d, x = months, y = years, zmax = 2000, \n",
    "            colorscale = 'PRGn')]\n",
    "py.iplot(data, filename='HeatMapRefugeesToCali')"
   ]
  },
  {
   "cell_type": "code",
   "execution_count": null,
   "metadata": {
    "collapsed": true
   },
   "outputs": [],
   "source": []
  }
 ],
 "metadata": {
  "kernelspec": {
   "display_name": "Python 3",
   "language": "python",
   "name": "python3"
  },
  "language_info": {
   "codemirror_mode": {
    "name": "ipython",
    "version": 3
   },
   "file_extension": ".py",
   "mimetype": "text/x-python",
   "name": "python",
   "nbconvert_exporter": "python",
   "pygments_lexer": "ipython3",
   "version": "3.5.1"
  }
 },
 "nbformat": 4,
 "nbformat_minor": 0
}
